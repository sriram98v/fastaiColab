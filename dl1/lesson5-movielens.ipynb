{
  "nbformat": 4,
  "nbformat_minor": 0,
  "metadata": {
    "colab": {
      "name": "lesson5-movielens.ipynb",
      "version": "0.3.2",
      "provenance": []
    },
    "kernelspec": {
      "display_name": "Python 3",
      "language": "python",
      "name": "python3"
    },
    "accelerator": "GPU"
  },
  "cells": [
    {
      "metadata": {
        "id": "gxzvVBdrarg9",
        "colab_type": "text"
      },
      "cell_type": "markdown",
      "source": [
        "**Initialization**\n",
        "\n",
        "The next few steps(or code snippets) initialize the colab environment for running the fast.ai course. Each line of code that added are in place to avoid any error, please do not change the position of any snippet if you do not know what they do.\n",
        "\n",
        "Note:- You will get an error saying that the code is closing in the memory limit of 12Gb. You can click 'terminate other runtimes'.\n",
        "       This error is popping up because the dataset is taking up most of the space, so don't worry\n",
        "      "
      ]
    },
    {
      "metadata": {
        "id": "AJU6OF0maw8j",
        "colab_type": "code",
        "colab": {
          "base_uri": "https://localhost:8080/",
          "height": 106
        },
        "outputId": "b9c793ec-8977-4139-8d2e-d5fdb4b1c021"
      },
      "cell_type": "code",
      "source": [
        "!apt-get install -y -qq software-properties-common python-software-properties module-init-tools\n",
        "!add-apt-repository -y ppa:alessandro-strada/ppa 2>&1 > /dev/null\n",
        "!apt-get update -qq 2>&1 > /dev/null\n",
        "!apt-get -y install -qq google-drive-ocamlfuse fuse\n",
        "from google.colab import auth\n",
        "auth.authenticate_user()\n",
        "from oauth2client.client import GoogleCredentials\n",
        "creds = GoogleCredentials.get_application_default()\n",
        "import getpass\n",
        "!google-drive-ocamlfuse -headless -id={creds.client_id} -secret={creds.client_secret} < /dev/null 2>&1 | grep URL\n",
        "vcode = getpass.getpass()\n",
        "!echo {vcode} | google-drive-ocamlfuse -headless -id={creds.client_id} -secret={creds.client_secret}"
      ],
      "execution_count": 0,
      "outputs": [
        {
          "output_type": "stream",
          "text": [
            "Please, open the following URL in a web browser: https://accounts.google.com/o/oauth2/auth?client_id=32555940559.apps.googleusercontent.com&redirect_uri=urn%3Aietf%3Awg%3Aoauth%3A2.0%3Aoob&scope=https%3A%2F%2Fwww.googleapis.com%2Fauth%2Fdrive&response_type=code&access_type=offline&approval_prompt=force\r\n",
            "··········\n",
            "Please, open the following URL in a web browser: https://accounts.google.com/o/oauth2/auth?client_id=32555940559.apps.googleusercontent.com&redirect_uri=urn%3Aietf%3Awg%3Aoauth%3A2.0%3Aoob&scope=https%3A%2F%2Fwww.googleapis.com%2Fauth%2Fdrive&response_type=code&access_type=offline&approval_prompt=force\n",
            "Please enter the verification code: Access token retrieved correctly.\n"
          ],
          "name": "stdout"
        }
      ]
    },
    {
      "metadata": {
        "id": "cBKhUk5Va0GD",
        "colab_type": "code",
        "colab": {
          "base_uri": "https://localhost:8080/",
          "height": 35
        },
        "outputId": "35248010-6895-469f-fbc9-6671484064cb"
      },
      "cell_type": "code",
      "source": [
        "# http://pytorch.org/\n",
        "# pre installation\n",
        "from os import path\n",
        "from wheel.pep425tags import get_abbr_impl, get_impl_ver, get_abi_tag\n",
        "platform = '{}{}-{}'.format(get_abbr_impl(), get_impl_ver(), get_abi_tag())\n",
        "\n",
        "accelerator = 'cu80' if path.exists('/opt/bin/nvidia-smi') else 'cpu'\n",
        "\n",
        "!pip install -q http://download.pytorch.org/whl/{accelerator}/torch-0.3.1-{platform}-linux_x86_64.whl torchvision fastai\n",
        "import torch"
      ],
      "execution_count": 1,
      "outputs": [
        {
          "output_type": "stream",
          "text": [
            "\u001b[31mplotnine 0.4.0 has requirement scipy>=1.0.0, but you'll have scipy 0.19.1 which is incompatible.\u001b[0m\r\n"
          ],
          "name": "stdout"
        }
      ]
    },
    {
      "metadata": {
        "id": "hPC6hPgGa_Y-",
        "colab_type": "code",
        "colab": {
          "base_uri": "https://localhost:8080/",
          "height": 35
        },
        "cellView": "both",
        "outputId": "ca2482c1-3baa-40fb-ac7c-6869789a84a2"
      },
      "cell_type": "code",
      "source": [
        "#@title\n",
        "!mkdir -p data && wget -q http://files.grouplens.org/datasets/movielens/ml-latest-small.zip && unzip -qq ml-latest-small.zip -d data/"
      ],
      "execution_count": 3,
      "outputs": [
        {
          "output_type": "stream",
          "text": [
            "replace data/ml-latest-small/links.csv? [y]es, [n]o, [A]ll, [N]one, [r]ename: ^C\n"
          ],
          "name": "stdout"
        }
      ]
    },
    {
      "metadata": {
        "id": "xZauz4Y7aoId",
        "colab_type": "text"
      },
      "cell_type": "markdown",
      "source": [
        "## Movielens"
      ]
    },
    {
      "metadata": {
        "id": "edB27G_3aoIh",
        "colab_type": "code",
        "colab": {}
      },
      "cell_type": "code",
      "source": [
        "#%reload_ext autoreload\n",
        "#%autoreload 2\n",
        "%matplotlib inline\n",
        "\n",
        "from fastai.learner import *\n",
        "from fastai.column_data import *"
      ],
      "execution_count": 0,
      "outputs": []
    },
    {
      "metadata": {
        "id": "YhpyX_SRaoIt",
        "colab_type": "text"
      },
      "cell_type": "markdown",
      "source": [
        "Data available from http://files.grouplens.org/datasets/movielens/ml-latest-small.zip"
      ]
    },
    {
      "metadata": {
        "id": "Ds80g2yHaoIv",
        "colab_type": "code",
        "colab": {}
      },
      "cell_type": "code",
      "source": [
        "path='data/ml-latest-small/'"
      ],
      "execution_count": 0,
      "outputs": []
    },
    {
      "metadata": {
        "id": "yh8aAzzaaoI3",
        "colab_type": "text"
      },
      "cell_type": "markdown",
      "source": [
        "We're working with the movielens data, which contains one rating per row, like this:"
      ]
    },
    {
      "metadata": {
        "id": "avQh5JVuaoI6",
        "colab_type": "code",
        "colab": {
          "base_uri": "https://localhost:8080/",
          "height": 204
        },
        "outputId": "8d0295fa-f9ba-4f36-eb2d-ba3a322a6fe0"
      },
      "cell_type": "code",
      "source": [
        "ratings = pd.read_csv(path+'ratings.csv')\n",
        "ratings.head()"
      ],
      "execution_count": 6,
      "outputs": [
        {
          "output_type": "execute_result",
          "data": {
            "text/html": [
              "<div>\n",
              "<style scoped>\n",
              "    .dataframe tbody tr th:only-of-type {\n",
              "        vertical-align: middle;\n",
              "    }\n",
              "\n",
              "    .dataframe tbody tr th {\n",
              "        vertical-align: top;\n",
              "    }\n",
              "\n",
              "    .dataframe thead th {\n",
              "        text-align: right;\n",
              "    }\n",
              "</style>\n",
              "<table border=\"1\" class=\"dataframe\">\n",
              "  <thead>\n",
              "    <tr style=\"text-align: right;\">\n",
              "      <th></th>\n",
              "      <th>userId</th>\n",
              "      <th>movieId</th>\n",
              "      <th>rating</th>\n",
              "      <th>timestamp</th>\n",
              "    </tr>\n",
              "  </thead>\n",
              "  <tbody>\n",
              "    <tr>\n",
              "      <th>0</th>\n",
              "      <td>1</td>\n",
              "      <td>31</td>\n",
              "      <td>2.5</td>\n",
              "      <td>1260759144</td>\n",
              "    </tr>\n",
              "    <tr>\n",
              "      <th>1</th>\n",
              "      <td>1</td>\n",
              "      <td>1029</td>\n",
              "      <td>3.0</td>\n",
              "      <td>1260759179</td>\n",
              "    </tr>\n",
              "    <tr>\n",
              "      <th>2</th>\n",
              "      <td>1</td>\n",
              "      <td>1061</td>\n",
              "      <td>3.0</td>\n",
              "      <td>1260759182</td>\n",
              "    </tr>\n",
              "    <tr>\n",
              "      <th>3</th>\n",
              "      <td>1</td>\n",
              "      <td>1129</td>\n",
              "      <td>2.0</td>\n",
              "      <td>1260759185</td>\n",
              "    </tr>\n",
              "    <tr>\n",
              "      <th>4</th>\n",
              "      <td>1</td>\n",
              "      <td>1172</td>\n",
              "      <td>4.0</td>\n",
              "      <td>1260759205</td>\n",
              "    </tr>\n",
              "  </tbody>\n",
              "</table>\n",
              "</div>"
            ],
            "text/plain": [
              "   userId  movieId  rating   timestamp\n",
              "0       1       31     2.5  1260759144\n",
              "1       1     1029     3.0  1260759179\n",
              "2       1     1061     3.0  1260759182\n",
              "3       1     1129     2.0  1260759185\n",
              "4       1     1172     4.0  1260759205"
            ]
          },
          "metadata": {
            "tags": []
          },
          "execution_count": 6
        }
      ]
    },
    {
      "metadata": {
        "id": "CI_p8Z_baoJG",
        "colab_type": "text"
      },
      "cell_type": "markdown",
      "source": [
        "Just for display purposes, let's read in the movie names too."
      ]
    },
    {
      "metadata": {
        "id": "HaEUyVEKaoJI",
        "colab_type": "code",
        "colab": {
          "base_uri": "https://localhost:8080/",
          "height": 204
        },
        "outputId": "9171fb93-4eb8-4aad-846c-da5198d99785"
      },
      "cell_type": "code",
      "source": [
        "movies = pd.read_csv(path+'movies.csv')\n",
        "movies.head()"
      ],
      "execution_count": 7,
      "outputs": [
        {
          "output_type": "execute_result",
          "data": {
            "text/html": [
              "<div>\n",
              "<style scoped>\n",
              "    .dataframe tbody tr th:only-of-type {\n",
              "        vertical-align: middle;\n",
              "    }\n",
              "\n",
              "    .dataframe tbody tr th {\n",
              "        vertical-align: top;\n",
              "    }\n",
              "\n",
              "    .dataframe thead th {\n",
              "        text-align: right;\n",
              "    }\n",
              "</style>\n",
              "<table border=\"1\" class=\"dataframe\">\n",
              "  <thead>\n",
              "    <tr style=\"text-align: right;\">\n",
              "      <th></th>\n",
              "      <th>movieId</th>\n",
              "      <th>title</th>\n",
              "      <th>genres</th>\n",
              "    </tr>\n",
              "  </thead>\n",
              "  <tbody>\n",
              "    <tr>\n",
              "      <th>0</th>\n",
              "      <td>1</td>\n",
              "      <td>Toy Story (1995)</td>\n",
              "      <td>Adventure|Animation|Children|Comedy|Fantasy</td>\n",
              "    </tr>\n",
              "    <tr>\n",
              "      <th>1</th>\n",
              "      <td>2</td>\n",
              "      <td>Jumanji (1995)</td>\n",
              "      <td>Adventure|Children|Fantasy</td>\n",
              "    </tr>\n",
              "    <tr>\n",
              "      <th>2</th>\n",
              "      <td>3</td>\n",
              "      <td>Grumpier Old Men (1995)</td>\n",
              "      <td>Comedy|Romance</td>\n",
              "    </tr>\n",
              "    <tr>\n",
              "      <th>3</th>\n",
              "      <td>4</td>\n",
              "      <td>Waiting to Exhale (1995)</td>\n",
              "      <td>Comedy|Drama|Romance</td>\n",
              "    </tr>\n",
              "    <tr>\n",
              "      <th>4</th>\n",
              "      <td>5</td>\n",
              "      <td>Father of the Bride Part II (1995)</td>\n",
              "      <td>Comedy</td>\n",
              "    </tr>\n",
              "  </tbody>\n",
              "</table>\n",
              "</div>"
            ],
            "text/plain": [
              "   movieId                               title  \\\n",
              "0        1                    Toy Story (1995)   \n",
              "1        2                      Jumanji (1995)   \n",
              "2        3             Grumpier Old Men (1995)   \n",
              "3        4            Waiting to Exhale (1995)   \n",
              "4        5  Father of the Bride Part II (1995)   \n",
              "\n",
              "                                        genres  \n",
              "0  Adventure|Animation|Children|Comedy|Fantasy  \n",
              "1                   Adventure|Children|Fantasy  \n",
              "2                               Comedy|Romance  \n",
              "3                         Comedy|Drama|Romance  \n",
              "4                                       Comedy  "
            ]
          },
          "metadata": {
            "tags": []
          },
          "execution_count": 7
        }
      ]
    },
    {
      "metadata": {
        "id": "0BrNE-q5aoJQ",
        "colab_type": "text"
      },
      "cell_type": "markdown",
      "source": [
        "## Create subset for Excel"
      ]
    },
    {
      "metadata": {
        "id": "aYVKuUDWaoJS",
        "colab_type": "text"
      },
      "cell_type": "markdown",
      "source": [
        "We create a crosstab of the most popular movies and most movie-addicted users which we'll copy into Excel for creating a simple example. This isn't necessary for any of the modeling below however."
      ]
    },
    {
      "metadata": {
        "id": "-fJkSQhNaoJV",
        "colab_type": "code",
        "colab": {
          "base_uri": "https://localhost:8080/",
          "height": 545
        },
        "outputId": "4f3fa90c-5fea-4ed7-edff-ab31b8c36f20"
      },
      "cell_type": "code",
      "source": [
        "g=ratings.groupby('userId')['rating'].count()\n",
        "topUsers=g.sort_values(ascending=False)[:15]\n",
        "\n",
        "g=ratings.groupby('movieId')['rating'].count()\n",
        "topMovies=g.sort_values(ascending=False)[:15]\n",
        "\n",
        "top_r = ratings.join(topUsers, rsuffix='_r', how='inner', on='userId')\n",
        "top_r = top_r.join(topMovies, rsuffix='_r', how='inner', on='movieId')\n",
        "\n",
        "pd.crosstab(top_r.userId, top_r.movieId, top_r.rating, aggfunc=np.sum)"
      ],
      "execution_count": 8,
      "outputs": [
        {
          "output_type": "execute_result",
          "data": {
            "text/html": [
              "<div>\n",
              "<style scoped>\n",
              "    .dataframe tbody tr th:only-of-type {\n",
              "        vertical-align: middle;\n",
              "    }\n",
              "\n",
              "    .dataframe tbody tr th {\n",
              "        vertical-align: top;\n",
              "    }\n",
              "\n",
              "    .dataframe thead th {\n",
              "        text-align: right;\n",
              "    }\n",
              "</style>\n",
              "<table border=\"1\" class=\"dataframe\">\n",
              "  <thead>\n",
              "    <tr style=\"text-align: right;\">\n",
              "      <th>movieId</th>\n",
              "      <th>1</th>\n",
              "      <th>110</th>\n",
              "      <th>260</th>\n",
              "      <th>296</th>\n",
              "      <th>318</th>\n",
              "      <th>356</th>\n",
              "      <th>480</th>\n",
              "      <th>527</th>\n",
              "      <th>589</th>\n",
              "      <th>593</th>\n",
              "      <th>608</th>\n",
              "      <th>1196</th>\n",
              "      <th>1198</th>\n",
              "      <th>1270</th>\n",
              "      <th>2571</th>\n",
              "    </tr>\n",
              "    <tr>\n",
              "      <th>userId</th>\n",
              "      <th></th>\n",
              "      <th></th>\n",
              "      <th></th>\n",
              "      <th></th>\n",
              "      <th></th>\n",
              "      <th></th>\n",
              "      <th></th>\n",
              "      <th></th>\n",
              "      <th></th>\n",
              "      <th></th>\n",
              "      <th></th>\n",
              "      <th></th>\n",
              "      <th></th>\n",
              "      <th></th>\n",
              "      <th></th>\n",
              "    </tr>\n",
              "  </thead>\n",
              "  <tbody>\n",
              "    <tr>\n",
              "      <th>15</th>\n",
              "      <td>2.0</td>\n",
              "      <td>3.0</td>\n",
              "      <td>5.0</td>\n",
              "      <td>5.0</td>\n",
              "      <td>2.0</td>\n",
              "      <td>1.0</td>\n",
              "      <td>3.0</td>\n",
              "      <td>4.0</td>\n",
              "      <td>4.0</td>\n",
              "      <td>5.0</td>\n",
              "      <td>5.0</td>\n",
              "      <td>5.0</td>\n",
              "      <td>4.0</td>\n",
              "      <td>5.0</td>\n",
              "      <td>5.0</td>\n",
              "    </tr>\n",
              "    <tr>\n",
              "      <th>30</th>\n",
              "      <td>4.0</td>\n",
              "      <td>5.0</td>\n",
              "      <td>4.0</td>\n",
              "      <td>5.0</td>\n",
              "      <td>5.0</td>\n",
              "      <td>5.0</td>\n",
              "      <td>4.0</td>\n",
              "      <td>5.0</td>\n",
              "      <td>4.0</td>\n",
              "      <td>4.0</td>\n",
              "      <td>5.0</td>\n",
              "      <td>4.0</td>\n",
              "      <td>5.0</td>\n",
              "      <td>5.0</td>\n",
              "      <td>3.0</td>\n",
              "    </tr>\n",
              "    <tr>\n",
              "      <th>73</th>\n",
              "      <td>5.0</td>\n",
              "      <td>4.0</td>\n",
              "      <td>4.5</td>\n",
              "      <td>5.0</td>\n",
              "      <td>5.0</td>\n",
              "      <td>5.0</td>\n",
              "      <td>4.0</td>\n",
              "      <td>5.0</td>\n",
              "      <td>3.0</td>\n",
              "      <td>4.5</td>\n",
              "      <td>4.0</td>\n",
              "      <td>5.0</td>\n",
              "      <td>5.0</td>\n",
              "      <td>5.0</td>\n",
              "      <td>4.5</td>\n",
              "    </tr>\n",
              "    <tr>\n",
              "      <th>212</th>\n",
              "      <td>3.0</td>\n",
              "      <td>5.0</td>\n",
              "      <td>4.0</td>\n",
              "      <td>4.0</td>\n",
              "      <td>4.5</td>\n",
              "      <td>4.0</td>\n",
              "      <td>3.0</td>\n",
              "      <td>5.0</td>\n",
              "      <td>3.0</td>\n",
              "      <td>4.0</td>\n",
              "      <td>NaN</td>\n",
              "      <td>NaN</td>\n",
              "      <td>3.0</td>\n",
              "      <td>3.0</td>\n",
              "      <td>5.0</td>\n",
              "    </tr>\n",
              "    <tr>\n",
              "      <th>213</th>\n",
              "      <td>3.0</td>\n",
              "      <td>2.5</td>\n",
              "      <td>5.0</td>\n",
              "      <td>NaN</td>\n",
              "      <td>NaN</td>\n",
              "      <td>2.0</td>\n",
              "      <td>5.0</td>\n",
              "      <td>NaN</td>\n",
              "      <td>4.0</td>\n",
              "      <td>2.5</td>\n",
              "      <td>2.0</td>\n",
              "      <td>5.0</td>\n",
              "      <td>3.0</td>\n",
              "      <td>3.0</td>\n",
              "      <td>4.0</td>\n",
              "    </tr>\n",
              "    <tr>\n",
              "      <th>294</th>\n",
              "      <td>4.0</td>\n",
              "      <td>3.0</td>\n",
              "      <td>4.0</td>\n",
              "      <td>NaN</td>\n",
              "      <td>3.0</td>\n",
              "      <td>4.0</td>\n",
              "      <td>4.0</td>\n",
              "      <td>4.0</td>\n",
              "      <td>3.0</td>\n",
              "      <td>NaN</td>\n",
              "      <td>NaN</td>\n",
              "      <td>4.0</td>\n",
              "      <td>4.5</td>\n",
              "      <td>4.0</td>\n",
              "      <td>4.5</td>\n",
              "    </tr>\n",
              "    <tr>\n",
              "      <th>311</th>\n",
              "      <td>3.0</td>\n",
              "      <td>3.0</td>\n",
              "      <td>4.0</td>\n",
              "      <td>3.0</td>\n",
              "      <td>4.5</td>\n",
              "      <td>5.0</td>\n",
              "      <td>4.5</td>\n",
              "      <td>5.0</td>\n",
              "      <td>4.5</td>\n",
              "      <td>2.0</td>\n",
              "      <td>4.0</td>\n",
              "      <td>3.0</td>\n",
              "      <td>4.5</td>\n",
              "      <td>4.5</td>\n",
              "      <td>4.0</td>\n",
              "    </tr>\n",
              "    <tr>\n",
              "      <th>380</th>\n",
              "      <td>4.0</td>\n",
              "      <td>5.0</td>\n",
              "      <td>4.0</td>\n",
              "      <td>5.0</td>\n",
              "      <td>4.0</td>\n",
              "      <td>5.0</td>\n",
              "      <td>4.0</td>\n",
              "      <td>NaN</td>\n",
              "      <td>4.0</td>\n",
              "      <td>5.0</td>\n",
              "      <td>4.0</td>\n",
              "      <td>4.0</td>\n",
              "      <td>NaN</td>\n",
              "      <td>3.0</td>\n",
              "      <td>5.0</td>\n",
              "    </tr>\n",
              "    <tr>\n",
              "      <th>452</th>\n",
              "      <td>3.5</td>\n",
              "      <td>4.0</td>\n",
              "      <td>4.0</td>\n",
              "      <td>5.0</td>\n",
              "      <td>5.0</td>\n",
              "      <td>4.0</td>\n",
              "      <td>5.0</td>\n",
              "      <td>4.0</td>\n",
              "      <td>4.0</td>\n",
              "      <td>5.0</td>\n",
              "      <td>5.0</td>\n",
              "      <td>4.0</td>\n",
              "      <td>4.0</td>\n",
              "      <td>4.0</td>\n",
              "      <td>2.0</td>\n",
              "    </tr>\n",
              "    <tr>\n",
              "      <th>468</th>\n",
              "      <td>4.0</td>\n",
              "      <td>3.0</td>\n",
              "      <td>3.5</td>\n",
              "      <td>3.5</td>\n",
              "      <td>3.5</td>\n",
              "      <td>3.0</td>\n",
              "      <td>2.5</td>\n",
              "      <td>NaN</td>\n",
              "      <td>NaN</td>\n",
              "      <td>3.0</td>\n",
              "      <td>4.0</td>\n",
              "      <td>3.0</td>\n",
              "      <td>3.5</td>\n",
              "      <td>3.0</td>\n",
              "      <td>3.0</td>\n",
              "    </tr>\n",
              "    <tr>\n",
              "      <th>509</th>\n",
              "      <td>3.0</td>\n",
              "      <td>5.0</td>\n",
              "      <td>5.0</td>\n",
              "      <td>5.0</td>\n",
              "      <td>4.0</td>\n",
              "      <td>4.0</td>\n",
              "      <td>3.0</td>\n",
              "      <td>5.0</td>\n",
              "      <td>2.0</td>\n",
              "      <td>4.0</td>\n",
              "      <td>4.5</td>\n",
              "      <td>5.0</td>\n",
              "      <td>5.0</td>\n",
              "      <td>3.0</td>\n",
              "      <td>4.5</td>\n",
              "    </tr>\n",
              "    <tr>\n",
              "      <th>547</th>\n",
              "      <td>3.5</td>\n",
              "      <td>NaN</td>\n",
              "      <td>NaN</td>\n",
              "      <td>5.0</td>\n",
              "      <td>5.0</td>\n",
              "      <td>2.0</td>\n",
              "      <td>3.0</td>\n",
              "      <td>5.0</td>\n",
              "      <td>NaN</td>\n",
              "      <td>5.0</td>\n",
              "      <td>5.0</td>\n",
              "      <td>2.5</td>\n",
              "      <td>2.0</td>\n",
              "      <td>3.5</td>\n",
              "      <td>3.5</td>\n",
              "    </tr>\n",
              "    <tr>\n",
              "      <th>564</th>\n",
              "      <td>4.0</td>\n",
              "      <td>1.0</td>\n",
              "      <td>2.0</td>\n",
              "      <td>5.0</td>\n",
              "      <td>NaN</td>\n",
              "      <td>3.0</td>\n",
              "      <td>5.0</td>\n",
              "      <td>4.0</td>\n",
              "      <td>5.0</td>\n",
              "      <td>5.0</td>\n",
              "      <td>5.0</td>\n",
              "      <td>5.0</td>\n",
              "      <td>5.0</td>\n",
              "      <td>3.0</td>\n",
              "      <td>3.0</td>\n",
              "    </tr>\n",
              "    <tr>\n",
              "      <th>580</th>\n",
              "      <td>4.0</td>\n",
              "      <td>4.5</td>\n",
              "      <td>4.0</td>\n",
              "      <td>4.5</td>\n",
              "      <td>4.0</td>\n",
              "      <td>3.5</td>\n",
              "      <td>3.0</td>\n",
              "      <td>4.0</td>\n",
              "      <td>4.5</td>\n",
              "      <td>4.0</td>\n",
              "      <td>4.5</td>\n",
              "      <td>4.0</td>\n",
              "      <td>3.5</td>\n",
              "      <td>3.0</td>\n",
              "      <td>4.5</td>\n",
              "    </tr>\n",
              "    <tr>\n",
              "      <th>624</th>\n",
              "      <td>5.0</td>\n",
              "      <td>NaN</td>\n",
              "      <td>5.0</td>\n",
              "      <td>5.0</td>\n",
              "      <td>NaN</td>\n",
              "      <td>3.0</td>\n",
              "      <td>3.0</td>\n",
              "      <td>NaN</td>\n",
              "      <td>3.0</td>\n",
              "      <td>5.0</td>\n",
              "      <td>4.0</td>\n",
              "      <td>5.0</td>\n",
              "      <td>5.0</td>\n",
              "      <td>5.0</td>\n",
              "      <td>2.0</td>\n",
              "    </tr>\n",
              "  </tbody>\n",
              "</table>\n",
              "</div>"
            ],
            "text/plain": [
              "movieId  1     110   260   296   318   356   480   527   589   593   608   \\\n",
              "userId                                                                      \n",
              "15        2.0   3.0   5.0   5.0   2.0   1.0   3.0   4.0   4.0   5.0   5.0   \n",
              "30        4.0   5.0   4.0   5.0   5.0   5.0   4.0   5.0   4.0   4.0   5.0   \n",
              "73        5.0   4.0   4.5   5.0   5.0   5.0   4.0   5.0   3.0   4.5   4.0   \n",
              "212       3.0   5.0   4.0   4.0   4.5   4.0   3.0   5.0   3.0   4.0   NaN   \n",
              "213       3.0   2.5   5.0   NaN   NaN   2.0   5.0   NaN   4.0   2.5   2.0   \n",
              "294       4.0   3.0   4.0   NaN   3.0   4.0   4.0   4.0   3.0   NaN   NaN   \n",
              "311       3.0   3.0   4.0   3.0   4.5   5.0   4.5   5.0   4.5   2.0   4.0   \n",
              "380       4.0   5.0   4.0   5.0   4.0   5.0   4.0   NaN   4.0   5.0   4.0   \n",
              "452       3.5   4.0   4.0   5.0   5.0   4.0   5.0   4.0   4.0   5.0   5.0   \n",
              "468       4.0   3.0   3.5   3.5   3.5   3.0   2.5   NaN   NaN   3.0   4.0   \n",
              "509       3.0   5.0   5.0   5.0   4.0   4.0   3.0   5.0   2.0   4.0   4.5   \n",
              "547       3.5   NaN   NaN   5.0   5.0   2.0   3.0   5.0   NaN   5.0   5.0   \n",
              "564       4.0   1.0   2.0   5.0   NaN   3.0   5.0   4.0   5.0   5.0   5.0   \n",
              "580       4.0   4.5   4.0   4.5   4.0   3.5   3.0   4.0   4.5   4.0   4.5   \n",
              "624       5.0   NaN   5.0   5.0   NaN   3.0   3.0   NaN   3.0   5.0   4.0   \n",
              "\n",
              "movieId  1196  1198  1270  2571  \n",
              "userId                           \n",
              "15        5.0   4.0   5.0   5.0  \n",
              "30        4.0   5.0   5.0   3.0  \n",
              "73        5.0   5.0   5.0   4.5  \n",
              "212       NaN   3.0   3.0   5.0  \n",
              "213       5.0   3.0   3.0   4.0  \n",
              "294       4.0   4.5   4.0   4.5  \n",
              "311       3.0   4.5   4.5   4.0  \n",
              "380       4.0   NaN   3.0   5.0  \n",
              "452       4.0   4.0   4.0   2.0  \n",
              "468       3.0   3.5   3.0   3.0  \n",
              "509       5.0   5.0   3.0   4.5  \n",
              "547       2.5   2.0   3.5   3.5  \n",
              "564       5.0   5.0   3.0   3.0  \n",
              "580       4.0   3.5   3.0   4.5  \n",
              "624       5.0   5.0   5.0   2.0  "
            ]
          },
          "metadata": {
            "tags": []
          },
          "execution_count": 8
        }
      ]
    },
    {
      "metadata": {
        "id": "Kfx2VkaCaoJf",
        "colab_type": "text"
      },
      "cell_type": "markdown",
      "source": [
        "## Collaborative filtering"
      ]
    },
    {
      "metadata": {
        "id": "DwfdnPx3aoJh",
        "colab_type": "code",
        "colab": {}
      },
      "cell_type": "code",
      "source": [
        "val_idxs = get_cv_idxs(len(ratings))\n",
        "wd=2e-4\n",
        "n_factors = 50"
      ],
      "execution_count": 0,
      "outputs": []
    },
    {
      "metadata": {
        "id": "vA_phG-OaoJp",
        "colab_type": "code",
        "colab": {}
      },
      "cell_type": "code",
      "source": [
        "cf = CollabFilterDataset.from_csv(path, 'ratings.csv', 'userId', 'movieId', 'rating')\n",
        "learn = cf.get_learner(n_factors, val_idxs, 64, opt_fn=optim.Adam)"
      ],
      "execution_count": 0,
      "outputs": []
    },
    {
      "metadata": {
        "id": "Uw_1sRIgaoJ2",
        "colab_type": "code",
        "colab": {
          "base_uri": "https://localhost:8080/",
          "height": 143
        },
        "outputId": "2ba87526-3e66-4e86-858c-f3bc16717cb9"
      },
      "cell_type": "code",
      "source": [
        "learn.fit(1e-2, 2, wds=wd, cycle_len=1, cycle_mult=2)"
      ],
      "execution_count": 11,
      "outputs": [
        {
          "output_type": "display_data",
          "data": {
            "application/vnd.jupyter.widget-view+json": {
              "model_id": "f3c5a020ae3d4c76b70ae873cf059917",
              "version_minor": 0,
              "version_major": 2
            },
            "text/plain": [
              "HBox(children=(IntProgress(value=0, description='Epoch', max=3), HTML(value='')))"
            ]
          },
          "metadata": {
            "tags": []
          }
        },
        {
          "output_type": "stream",
          "text": [
            "epoch      trn_loss   val_loss   \n",
            "    0      0.814093   0.809851  \n",
            "    1      0.773127   0.781133  \n",
            "    2      0.596628   0.765896  \n",
            "\n"
          ],
          "name": "stdout"
        },
        {
          "output_type": "execute_result",
          "data": {
            "text/plain": [
              "[array([0.7659])]"
            ]
          },
          "metadata": {
            "tags": []
          },
          "execution_count": 11
        }
      ]
    },
    {
      "metadata": {
        "id": "CIkH0YEMaoKD",
        "colab_type": "text"
      },
      "cell_type": "markdown",
      "source": [
        "Let's compare to some benchmarks. Here's [some benchmarks](https://www.librec.net/release/v1.3/example.html) on the same dataset for the popular Librec system for collaborative filtering. They show best results based on [RMSE](http://www.statisticshowto.com/rmse/) of 0.91. We'll need to take the square root of our loss, since we use plain MSE."
      ]
    },
    {
      "metadata": {
        "id": "DQ86B35xaoKF",
        "colab_type": "code",
        "colab": {
          "base_uri": "https://localhost:8080/",
          "height": 35
        },
        "outputId": "2ff0d93a-74a5-497a-c3a2-52211cf357f5"
      },
      "cell_type": "code",
      "source": [
        "math.sqrt(0.776)"
      ],
      "execution_count": 12,
      "outputs": [
        {
          "output_type": "execute_result",
          "data": {
            "text/plain": [
              "0.8809086218218096"
            ]
          },
          "metadata": {
            "tags": []
          },
          "execution_count": 12
        }
      ]
    },
    {
      "metadata": {
        "id": "WYFD98xbaoKQ",
        "colab_type": "text"
      },
      "cell_type": "markdown",
      "source": [
        "Looking good - we've found a solution better than any of those benchmarks! Let's take a look at how the predictions compare to actuals for this model."
      ]
    },
    {
      "metadata": {
        "id": "tzCTw9s8aoKV",
        "colab_type": "code",
        "colab": {}
      },
      "cell_type": "code",
      "source": [
        "preds = learn.predict()"
      ],
      "execution_count": 0,
      "outputs": []
    },
    {
      "metadata": {
        "id": "BNXnU8gYaoKb",
        "colab_type": "code",
        "colab": {
          "base_uri": "https://localhost:8080/",
          "height": 441
        },
        "outputId": "5cbbaae8-d19d-435d-96f7-3288a573cd84"
      },
      "cell_type": "code",
      "source": [
        "y=learn.data.val_y\n",
        "sns.jointplot(preds, y, kind='hex', stat_func=None);"
      ],
      "execution_count": 14,
      "outputs": [
        {
          "output_type": "display_data",
          "data": {
            "image/png": "[encoded data removed]",
            "text/plain": [
              "<matplotlib.figure.Figure at 0x7f28f33efba8>"
            ]
          },
          "metadata": {
            "tags": []
          }
        }
      ]
    },
    {
      "metadata": {
        "id": "zd-rTE8xaoKl",
        "colab_type": "text"
      },
      "cell_type": "markdown",
      "source": [
        "## Analyze results"
      ]
    },
    {
      "metadata": {
        "id": "QppvoDQsaoKm",
        "colab_type": "text"
      },
      "cell_type": "markdown",
      "source": [
        "### Movie bias"
      ]
    },
    {
      "metadata": {
        "id": "enSxQrVWaoKn",
        "colab_type": "code",
        "colab": {}
      },
      "cell_type": "code",
      "source": [
        "movie_names = movies.set_index('movieId')['title'].to_dict()\n",
        "g=ratings.groupby('movieId')['rating'].count()\n",
        "topMovies=g.sort_values(ascending=False).index.values[:3000]\n",
        "topMovieIdx = np.array([cf.item2idx[o] for o in topMovies])"
      ],
      "execution_count": 0,
      "outputs": []
    },
    {
      "metadata": {
        "id": "fEEWZXbIaoKr",
        "colab_type": "code",
        "colab": {
          "base_uri": "https://localhost:8080/",
          "height": 125
        },
        "outputId": "2c7dfbdc-069b-44ac-a194-8753db482e6c"
      },
      "cell_type": "code",
      "source": [
        "m=learn.model; m.cuda()"
      ],
      "execution_count": 16,
      "outputs": [
        {
          "output_type": "execute_result",
          "data": {
            "text/plain": [
              "EmbeddingDotBias(\n",
              "  (u): Embedding(671, 50)\n",
              "  (i): Embedding(9066, 50)\n",
              "  (ub): Embedding(671, 1)\n",
              "  (ib): Embedding(9066, 1)\n",
              ")"
            ]
          },
          "metadata": {
            "tags": []
          },
          "execution_count": 16
        }
      ]
    },
    {
      "metadata": {
        "id": "BYYeQCTpaoK4",
        "colab_type": "text"
      },
      "cell_type": "markdown",
      "source": [
        "First, we'll look at the movie bias term. Here, our input is the movie id (a single id), and the output is the movie bias (a single float)."
      ]
    },
    {
      "metadata": {
        "id": "gTxGsWo3aoK6",
        "colab_type": "code",
        "colab": {}
      },
      "cell_type": "code",
      "source": [
        "movie_bias = to_np(m.ib(V(topMovieIdx)))"
      ],
      "execution_count": 0,
      "outputs": []
    },
    {
      "metadata": {
        "id": "1bxr0OpKaoLM",
        "colab_type": "code",
        "colab": {
          "base_uri": "https://localhost:8080/",
          "height": 143
        },
        "outputId": "85de1f50-df76-4f1c-d618-0bbb79f5c61a"
      },
      "cell_type": "code",
      "source": [
        "movie_bias"
      ],
      "execution_count": 18,
      "outputs": [
        {
          "output_type": "execute_result",
          "data": {
            "text/plain": [
              "array([[ 0.84709],\n",
              "       [ 0.87448],\n",
              "       [ 1.3271 ],\n",
              "       ...,\n",
              "       [ 0.34872],\n",
              "       [-0.00952],\n",
              "       [ 0.19517]], dtype=float32)"
            ]
          },
          "metadata": {
            "tags": []
          },
          "execution_count": 18
        }
      ]
    },
    {
      "metadata": {
        "id": "DdAFVLLkaoLV",
        "colab_type": "code",
        "colab": {}
      },
      "cell_type": "code",
      "source": [
        "movie_ratings = [(b[0], movie_names[i]) for i,b in zip(topMovies,movie_bias)]"
      ],
      "execution_count": 0,
      "outputs": []
    },
    {
      "metadata": {
        "id": "E275orCkaoLf",
        "colab_type": "text"
      },
      "cell_type": "markdown",
      "source": [
        "Now we can look at the top and bottom rated movies. These ratings are corrected for different levels of reviewer sentiment, as well as different types of movies that different reviewers watch."
      ]
    },
    {
      "metadata": {
        "id": "sSdOWsFpaoLg",
        "colab_type": "code",
        "colab": {
          "base_uri": "https://localhost:8080/",
          "height": 287
        },
        "outputId": "b902277a-486a-43e4-dc5d-ba3dd47dec9b"
      },
      "cell_type": "code",
      "source": [
        "sorted(movie_ratings, key=lambda o: o[0])[:15]"
      ],
      "execution_count": 20,
      "outputs": [
        {
          "output_type": "execute_result",
          "data": {
            "text/plain": [
              "[(-0.92658275, 'Battlefield Earth (2000)'),\n",
              " (-0.7169637, 'Batman & Robin (1997)'),\n",
              " (-0.7130065, 'Mighty Morphin Power Rangers: The Movie (1995)'),\n",
              " (-0.7125808, 'Wild Wild West (1999)'),\n",
              " (-0.7081583, 'Super Mario Bros. (1993)'),\n",
              " (-0.7075122, 'Speed 2: Cruise Control (1997)'),\n",
              " (-0.7018496, 'Anaconda (1997)'),\n",
              " (-0.6857145, 'Inspector Gadget (1999)'),\n",
              " (-0.63308793, 'Jaws 3-D (1983)'),\n",
              " (-0.6216595, 'Hollow Man (2000)'),\n",
              " (-0.5970961, \"Joe's Apartment (1996)\"),\n",
              " (-0.5883046, 'Message in a Bottle (1999)'),\n",
              " (-0.57434773, 'Flintstones, The (1994)'),\n",
              " (-0.5714112, 'Congo (1995)'),\n",
              " (-0.56774807, 'Bio-Dome (1996)')]"
            ]
          },
          "metadata": {
            "tags": []
          },
          "execution_count": 20
        }
      ]
    },
    {
      "metadata": {
        "id": "_-7c4VCOaoLt",
        "colab_type": "code",
        "colab": {
          "base_uri": "https://localhost:8080/",
          "height": 287
        },
        "outputId": "0cd750cd-15cf-4883-c8a4-8e5d4feffb56"
      },
      "cell_type": "code",
      "source": [
        "sorted(movie_ratings, key=itemgetter(0))[:15]"
      ],
      "execution_count": 21,
      "outputs": [
        {
          "output_type": "execute_result",
          "data": {
            "text/plain": [
              "[(-0.92658275, 'Battlefield Earth (2000)'),\n",
              " (-0.7169637, 'Batman & Robin (1997)'),\n",
              " (-0.7130065, 'Mighty Morphin Power Rangers: The Movie (1995)'),\n",
              " (-0.7125808, 'Wild Wild West (1999)'),\n",
              " (-0.7081583, 'Super Mario Bros. (1993)'),\n",
              " (-0.7075122, 'Speed 2: Cruise Control (1997)'),\n",
              " (-0.7018496, 'Anaconda (1997)'),\n",
              " (-0.6857145, 'Inspector Gadget (1999)'),\n",
              " (-0.63308793, 'Jaws 3-D (1983)'),\n",
              " (-0.6216595, 'Hollow Man (2000)'),\n",
              " (-0.5970961, \"Joe's Apartment (1996)\"),\n",
              " (-0.5883046, 'Message in a Bottle (1999)'),\n",
              " (-0.57434773, 'Flintstones, The (1994)'),\n",
              " (-0.5714112, 'Congo (1995)'),\n",
              " (-0.56774807, 'Bio-Dome (1996)')]"
            ]
          },
          "metadata": {
            "tags": []
          },
          "execution_count": 21
        }
      ]
    },
    {
      "metadata": {
        "id": "Q6fpxHZoaoL5",
        "colab_type": "code",
        "colab": {
          "base_uri": "https://localhost:8080/",
          "height": 287
        },
        "outputId": "d86e3807-4a7d-4c77-9a44-479c650189f9"
      },
      "cell_type": "code",
      "source": [
        "sorted(movie_ratings, key=lambda o: o[0], reverse=True)[:15]"
      ],
      "execution_count": 22,
      "outputs": [
        {
          "output_type": "execute_result",
          "data": {
            "text/plain": [
              "[(1.3271029, 'Shawshank Redemption, The (1994)'),\n",
              " (1.1674513, 'Godfather, The (1972)'),\n",
              " (1.0488297, 'Usual Suspects, The (1995)'),\n",
              " (0.9501025, 'Godfather: Part II, The (1974)'),\n",
              " (0.94562376, \"Schindler's List (1993)\"),\n",
              " (0.93235403, 'Fargo (1996)'),\n",
              " (0.89398134, 'Princess Bride, The (1987)'),\n",
              " (0.88672304, '12 Angry Men (1957)'),\n",
              " (0.88666296, 'Dark Knight, The (2008)'),\n",
              " (0.8744787, 'Pulp Fiction (1994)'),\n",
              " (0.84709436, 'Forrest Gump (1994)'),\n",
              " (0.8419705, 'Silence of the Lambs, The (1991)'),\n",
              " (0.8238199, 'Star Wars: Episode V - The Empire Strikes Back (1980)'),\n",
              " (0.814556, 'Rear Window (1954)'),\n",
              " (0.80908984, 'To Kill a Mockingbird (1962)')]"
            ]
          },
          "metadata": {
            "tags": []
          },
          "execution_count": 22
        }
      ]
    },
    {
      "metadata": {
        "id": "ipNxDLYaaoMC",
        "colab_type": "text"
      },
      "cell_type": "markdown",
      "source": [
        "### Embedding interpretation"
      ]
    },
    {
      "metadata": {
        "id": "Rh460mL8aoMC",
        "colab_type": "text"
      },
      "cell_type": "markdown",
      "source": [
        "We can now do the same thing for the embeddings."
      ]
    },
    {
      "metadata": {
        "id": "Bm8IoigqaoMG",
        "colab_type": "code",
        "colab": {
          "base_uri": "https://localhost:8080/",
          "height": 35
        },
        "outputId": "c0ca73e0-18b1-4c72-cdc2-4416762b33de"
      },
      "cell_type": "code",
      "source": [
        "movie_emb = to_np(m.i(V(topMovieIdx)))\n",
        "movie_emb.shape"
      ],
      "execution_count": 23,
      "outputs": [
        {
          "output_type": "execute_result",
          "data": {
            "text/plain": [
              "(3000, 50)"
            ]
          },
          "metadata": {
            "tags": []
          },
          "execution_count": 23
        }
      ]
    },
    {
      "metadata": {
        "id": "5pglg7pNaoMM",
        "colab_type": "text"
      },
      "cell_type": "markdown",
      "source": [
        "Because it's hard to interpret 50 embeddings, we use [PCA](https://plot.ly/ipython-notebooks/principal-component-analysis/) to simplify them down to just 3 vectors. "
      ]
    },
    {
      "metadata": {
        "id": "HSsiwtKyaoMN",
        "colab_type": "code",
        "colab": {}
      },
      "cell_type": "code",
      "source": [
        "from sklearn.decomposition import PCA\n",
        "pca = PCA(n_components=3)\n",
        "movie_pca = pca.fit(movie_emb.T).components_"
      ],
      "execution_count": 0,
      "outputs": []
    },
    {
      "metadata": {
        "id": "kvWR1kmLaoMT",
        "colab_type": "code",
        "colab": {
          "base_uri": "https://localhost:8080/",
          "height": 35
        },
        "outputId": "70721817-5562-444c-b7fc-9e36ed0e1769"
      },
      "cell_type": "code",
      "source": [
        "movie_pca.shape"
      ],
      "execution_count": 25,
      "outputs": [
        {
          "output_type": "execute_result",
          "data": {
            "text/plain": [
              "(3, 3000)"
            ]
          },
          "metadata": {
            "tags": []
          },
          "execution_count": 25
        }
      ]
    },
    {
      "metadata": {
        "id": "ro3nsvQOaoMY",
        "colab_type": "code",
        "colab": {}
      },
      "cell_type": "code",
      "source": [
        "fac0 = movie_pca[0]\n",
        "movie_comp = [(f, movie_names[i]) for f,i in zip(fac0, topMovies)]"
      ],
      "execution_count": 0,
      "outputs": []
    },
    {
      "metadata": {
        "id": "bighQuJFaoMb",
        "colab_type": "text"
      },
      "cell_type": "markdown",
      "source": [
        "Here's the 1st component. It seems to be 'easy watching' vs 'serious'."
      ]
    },
    {
      "metadata": {
        "id": "D_PlpPlNaoMe",
        "colab_type": "code",
        "colab": {
          "base_uri": "https://localhost:8080/",
          "height": 197
        },
        "outputId": "0a9071ff-5b3a-4337-fdde-b2cd8077c016"
      },
      "cell_type": "code",
      "source": [
        "sorted(movie_comp, key=itemgetter(0), reverse=True)[:10]"
      ],
      "execution_count": 27,
      "outputs": [
        {
          "output_type": "execute_result",
          "data": {
            "text/plain": [
              "[(0.0748648, 'Pulp Fiction (1994)'),\n",
              " (0.067012206, 'Being John Malkovich (1999)'),\n",
              " (0.06494048, 'Goodfellas (1990)'),\n",
              " (0.06399871, 'Apocalypse Now (1979)'),\n",
              " (0.063683785, 'Fargo (1996)'),\n",
              " (0.06240465, 'Taxi Driver (1976)'),\n",
              " (0.06120869, '2001: A Space Odyssey (1968)'),\n",
              " (0.06092186, 'Chinatown (1974)'),\n",
              " (0.060390476, 'Full Metal Jacket (1987)'),\n",
              " (0.059391852, 'Godfather, The (1972)')]"
            ]
          },
          "metadata": {
            "tags": []
          },
          "execution_count": 27
        }
      ]
    },
    {
      "metadata": {
        "id": "J3InLi6OaoMl",
        "colab_type": "code",
        "colab": {
          "base_uri": "https://localhost:8080/",
          "height": 197
        },
        "outputId": "cda64745-9384-49dd-f090-9a97d26d42d3"
      },
      "cell_type": "code",
      "source": [
        "sorted(movie_comp, key=itemgetter(0))[:10]"
      ],
      "execution_count": 28,
      "outputs": [
        {
          "output_type": "execute_result",
          "data": {
            "text/plain": [
              "[(-0.081905656, 'Independence Day (a.k.a. ID4) (1996)'),\n",
              " (-0.067392305, 'Armageddon (1998)'),\n",
              " (-0.06071082, 'Mission: Impossible II (2000)'),\n",
              " (-0.058770295, 'Police Academy 3: Back in Training (1986)'),\n",
              " (-0.05820271, 'Waterworld (1995)'),\n",
              " (-0.057661768, 'Lost in Space (1998)'),\n",
              " (-0.057333887, 'Miss Congeniality (2000)'),\n",
              " (-0.0529592, 'Man in the Iron Mask, The (1998)'),\n",
              " (-0.052421413, 'Home Alone 3 (1997)'),\n",
              " (-0.05172587, 'Lost World: Jurassic Park, The (1997)')]"
            ]
          },
          "metadata": {
            "tags": []
          },
          "execution_count": 28
        }
      ]
    },
    {
      "metadata": {
        "id": "PAReed_JaoMp",
        "colab_type": "code",
        "colab": {}
      },
      "cell_type": "code",
      "source": [
        "fac1 = movie_pca[1]\n",
        "movie_comp = [(f, movie_names[i]) for f,i in zip(fac1, topMovies)]"
      ],
      "execution_count": 0,
      "outputs": []
    },
    {
      "metadata": {
        "id": "2T855Ob8aoMt",
        "colab_type": "text"
      },
      "cell_type": "markdown",
      "source": [
        "Here's the 2nd component. It seems to be 'CGI' vs 'dialog driven'."
      ]
    },
    {
      "metadata": {
        "id": "HhFG0fodaoMu",
        "colab_type": "code",
        "colab": {
          "base_uri": "https://localhost:8080/",
          "height": 215
        },
        "outputId": "0a9d0912-063b-46c5-c13f-c5f8d3736a61"
      },
      "cell_type": "code",
      "source": [
        "sorted(movie_comp, key=itemgetter(0), reverse=True)[:10]"
      ],
      "execution_count": 30,
      "outputs": [
        {
          "output_type": "execute_result",
          "data": {
            "text/plain": [
              "[(0.13113573, 'Lord of the Rings: The Fellowship of the Ring, The (2001)'),\n",
              " (0.12278012, 'Lord of the Rings: The Return of the King, The (2003)'),\n",
              " (0.121389315, 'Star Wars: Episode IV - A New Hope (1977)'),\n",
              " (0.11740691, 'Star Wars: Episode VI - Return of the Jedi (1983)'),\n",
              " (0.10265454, 'Matrix, The (1999)'),\n",
              " (0.09896215, 'Lethal Weapon (1987)'),\n",
              " (0.09785297, 'Lord of the Rings: The Two Towers, The (2002)'),\n",
              " (0.09635479,\n",
              "  'Raiders of the Lost Ark (Indiana Jones and the Raiders of the Lost Ark) (1981)'),\n",
              " (0.094043314, 'Star Wars: Episode V - The Empire Strikes Back (1980)'),\n",
              " (0.08387991, 'Forrest Gump (1994)')]"
            ]
          },
          "metadata": {
            "tags": []
          },
          "execution_count": 30
        }
      ]
    },
    {
      "metadata": {
        "id": "mCq86eSVaoM0",
        "colab_type": "code",
        "colab": {
          "base_uri": "https://localhost:8080/",
          "height": 215
        },
        "outputId": "7cf7d15d-46eb-4474-e557-ce386323fb4b"
      },
      "cell_type": "code",
      "source": [
        "sorted(movie_comp, key=itemgetter(0))[:10]"
      ],
      "execution_count": 31,
      "outputs": [
        {
          "output_type": "execute_result",
          "data": {
            "text/plain": [
              "[(-0.054945692, 'Stepford Wives, The (1975)'),\n",
              " (-0.047687177, 'Leaving Las Vegas (1995)'),\n",
              " (-0.04644712, 'Mulholland Drive (2001)'),\n",
              " (-0.046221506, 'Space Jam (1996)'),\n",
              " (-0.046169367, 'Pieces of April (2003)'),\n",
              " (-0.04288475, 'Friday the 13th Part 3: 3D (1982)'),\n",
              " (-0.042447466,\n",
              "  'Dr. Strangelove or: How I Learned to Stop Worrying and Love the Bomb (1964)'),\n",
              " (-0.042090956, 'Bringing Up Baby (1938)'),\n",
              " (-0.04192074, '8 1/2 (8½) (1963)'),\n",
              " (-0.040324356, 'Home Alone 2: Lost in New York (1992)')]"
            ]
          },
          "metadata": {
            "tags": []
          },
          "execution_count": 31
        }
      ]
    },
    {
      "metadata": {
        "id": "4DiEWiI1aoM7",
        "colab_type": "text"
      },
      "cell_type": "markdown",
      "source": [
        "We can draw a picture to see how various movies appear on the map of these components. This picture shows the first two components."
      ]
    },
    {
      "metadata": {
        "id": "t7Q8_qTMaoM8",
        "colab_type": "code",
        "colab": {
          "base_uri": "https://localhost:8080/",
          "height": 863
        },
        "outputId": "1cb904dd-4301-4eaa-d2c9-1d0d7a7463b5"
      },
      "cell_type": "code",
      "source": [
        "idxs = np.random.choice(len(topMovies), 50, replace=False)\n",
        "X = fac0[idxs]\n",
        "Y = fac1[idxs]\n",
        "plt.figure(figsize=(15,15))\n",
        "plt.scatter(X, Y)\n",
        "for i, x, y in zip(topMovies[idxs], X, Y):\n",
        "    plt.text(x,y,movie_names[i], color=np.random.rand(3)*0.7, fontsize=11)\n",
        "plt.show()"
      ],
      "execution_count": 32,
      "outputs": [
        {
          "output_type": "display_data",
          "data": {
            "image/png": "[encoded data removed]",
            "text/plain": [
              "<matplotlib.figure.Figure at 0x7f28bf79a9e8>"
            ]
          },
          "metadata": {
            "tags": []
          }
        }
      ]
    },
    {
      "metadata": {
        "id": "1201U-CkaoNK",
        "colab_type": "text"
      },
      "cell_type": "markdown",
      "source": [
        "## Collab filtering from scratch"
      ]
    },
    {
      "metadata": {
        "id": "FXWsGVweaoNL",
        "colab_type": "text"
      },
      "cell_type": "markdown",
      "source": [
        "### Dot product example"
      ]
    },
    {
      "metadata": {
        "id": "IF8jf6NnaoNN",
        "colab_type": "code",
        "colab": {
          "base_uri": "https://localhost:8080/",
          "height": 143
        },
        "outputId": "c9e91f1b-d8b7-4aeb-ec94-72012eb7f281"
      },
      "cell_type": "code",
      "source": [
        "a = T([[1.,2],[3,4]])\n",
        "b = T([[2.,2],[10,10]])\n",
        "a,b"
      ],
      "execution_count": 33,
      "outputs": [
        {
          "output_type": "execute_result",
          "data": {
            "text/plain": [
              "(\n",
              "  1  2\n",
              "  3  4\n",
              " [torch.cuda.FloatTensor of size 2x2 (GPU 0)], \n",
              "   2   2\n",
              "  10  10\n",
              " [torch.cuda.FloatTensor of size 2x2 (GPU 0)])"
            ]
          },
          "metadata": {
            "tags": []
          },
          "execution_count": 33
        }
      ]
    },
    {
      "metadata": {
        "id": "C_tffm2NaoNS",
        "colab_type": "code",
        "colab": {
          "base_uri": "https://localhost:8080/",
          "height": 89
        },
        "outputId": "7221d7dd-9189-4848-953e-cb8853f43ef1"
      },
      "cell_type": "code",
      "source": [
        "a*b"
      ],
      "execution_count": 34,
      "outputs": [
        {
          "output_type": "execute_result",
          "data": {
            "text/plain": [
              "\n",
              "  2   4\n",
              " 30  40\n",
              "[torch.cuda.FloatTensor of size 2x2 (GPU 0)]"
            ]
          },
          "metadata": {
            "tags": []
          },
          "execution_count": 34
        }
      ]
    },
    {
      "metadata": {
        "id": "Vu4EAqlgaoNY",
        "colab_type": "code",
        "colab": {
          "base_uri": "https://localhost:8080/",
          "height": 89
        },
        "outputId": "71b2910a-121e-47e8-a40c-5b0dfa9872cd"
      },
      "cell_type": "code",
      "source": [
        "(a*b).sum(1)"
      ],
      "execution_count": 35,
      "outputs": [
        {
          "output_type": "execute_result",
          "data": {
            "text/plain": [
              "\n",
              "  6\n",
              " 70\n",
              "[torch.cuda.FloatTensor of size 2 (GPU 0)]"
            ]
          },
          "metadata": {
            "tags": []
          },
          "execution_count": 35
        }
      ]
    },
    {
      "metadata": {
        "id": "KKpPObVAaoNc",
        "colab_type": "code",
        "colab": {}
      },
      "cell_type": "code",
      "source": [
        "class DotProduct(nn.Module):\n",
        "    def forward(self, u, m): return (u*m).sum(1)"
      ],
      "execution_count": 0,
      "outputs": []
    },
    {
      "metadata": {
        "id": "6l0zAogkaoNf",
        "colab_type": "code",
        "colab": {}
      },
      "cell_type": "code",
      "source": [
        "model=DotProduct()"
      ],
      "execution_count": 0,
      "outputs": []
    },
    {
      "metadata": {
        "id": "GU9b0CRnaoNj",
        "colab_type": "code",
        "colab": {
          "base_uri": "https://localhost:8080/",
          "height": 89
        },
        "outputId": "88e74eb4-1c59-42f0-f140-4e7e99bf8038"
      },
      "cell_type": "code",
      "source": [
        "model(a,b)"
      ],
      "execution_count": 38,
      "outputs": [
        {
          "output_type": "execute_result",
          "data": {
            "text/plain": [
              "\n",
              "  6\n",
              " 70\n",
              "[torch.cuda.FloatTensor of size 2 (GPU 0)]"
            ]
          },
          "metadata": {
            "tags": []
          },
          "execution_count": 38
        }
      ]
    },
    {
      "metadata": {
        "id": "wC0oZrxuaoNm",
        "colab_type": "text"
      },
      "cell_type": "markdown",
      "source": [
        "### Dot product model"
      ]
    },
    {
      "metadata": {
        "id": "MSbo4cylaoNn",
        "colab_type": "code",
        "colab": {}
      },
      "cell_type": "code",
      "source": [
        "u_uniq = ratings.userId.unique()\n",
        "user2idx = {o:i for i,o in enumerate(u_uniq)}\n",
        "ratings.userId = ratings.userId.apply(lambda x: user2idx[x])\n",
        "\n",
        "m_uniq = ratings.movieId.unique()\n",
        "movie2idx = {o:i for i,o in enumerate(m_uniq)}\n",
        "ratings.movieId = ratings.movieId.apply(lambda x: movie2idx[x])\n",
        "\n",
        "n_users=int(ratings.userId.nunique())\n",
        "n_movies=int(ratings.movieId.nunique())"
      ],
      "execution_count": 0,
      "outputs": []
    },
    {
      "metadata": {
        "id": "37blaBCeaoNp",
        "colab_type": "code",
        "colab": {}
      },
      "cell_type": "code",
      "source": [
        "class EmbeddingDot(nn.Module):\n",
        "    def __init__(self, n_users, n_movies):\n",
        "        super().__init__()\n",
        "        self.u = nn.Embedding(n_users, n_factors)\n",
        "        self.m = nn.Embedding(n_movies, n_factors)\n",
        "        self.u.weight.data.uniform_(0,0.05)\n",
        "        self.m.weight.data.uniform_(0,0.05)\n",
        "        \n",
        "    def forward(self, cats, conts):\n",
        "        users,movies = cats[:,0],cats[:,1]\n",
        "        u,m = self.u(users),self.m(movies)\n",
        "        return (u*m).sum(1)"
      ],
      "execution_count": 0,
      "outputs": []
    },
    {
      "metadata": {
        "id": "d9bRLT4caoNs",
        "colab_type": "code",
        "colab": {}
      },
      "cell_type": "code",
      "source": [
        "x = ratings.drop(['rating', 'timestamp'],axis=1)\n",
        "y = ratings['rating'].astype(np.float32)"
      ],
      "execution_count": 0,
      "outputs": []
    },
    {
      "metadata": {
        "id": "AblAwxcwaoNv",
        "colab_type": "code",
        "colab": {}
      },
      "cell_type": "code",
      "source": [
        "data = ColumnarModelData.from_data_frame(path, val_idxs, x, y, ['userId', 'movieId'], 64)"
      ],
      "execution_count": 0,
      "outputs": []
    },
    {
      "metadata": {
        "id": "50xKZlP2aoNz",
        "colab_type": "code",
        "colab": {}
      },
      "cell_type": "code",
      "source": [
        "wd=1e-5\n",
        "model = EmbeddingDot(n_users, n_movies).cuda()\n",
        "opt = optim.SGD(model.parameters(), 1e-1, weight_decay=wd, momentum=0.9)"
      ],
      "execution_count": 0,
      "outputs": []
    },
    {
      "metadata": {
        "id": "k8vALYNHaoN2",
        "colab_type": "code",
        "colab": {
          "base_uri": "https://localhost:8080/",
          "height": 143
        },
        "outputId": "755ddc08-3a96-4be6-8d3a-c233344d2555"
      },
      "cell_type": "code",
      "source": [
        "fit(model, data, 3, opt, F.mse_loss)"
      ],
      "execution_count": 44,
      "outputs": [
        {
          "output_type": "display_data",
          "data": {
            "application/vnd.jupyter.widget-view+json": {
              "model_id": "cb933e4427864a27a9927a430533c2b2",
              "version_minor": 0,
              "version_major": 2
            },
            "text/plain": [
              "HBox(children=(IntProgress(value=0, description='Epoch', max=3), HTML(value='')))"
            ]
          },
          "metadata": {
            "tags": []
          }
        },
        {
          "output_type": "stream",
          "text": [
            "epoch      trn_loss   val_loss   \n",
            "    0      1.694518   1.636231  \n",
            "    1      1.061668   1.299865  \n",
            "    2      0.955639   1.225609  \n",
            "\n"
          ],
          "name": "stdout"
        },
        {
          "output_type": "execute_result",
          "data": {
            "text/plain": [
              "[array([1.22561])]"
            ]
          },
          "metadata": {
            "tags": []
          },
          "execution_count": 44
        }
      ]
    },
    {
      "metadata": {
        "id": "QY6F_-DyaoN7",
        "colab_type": "code",
        "colab": {}
      },
      "cell_type": "code",
      "source": [
        "set_lrs(opt, 0.01)"
      ],
      "execution_count": 0,
      "outputs": []
    },
    {
      "metadata": {
        "id": "OIPqIIB1aoOE",
        "colab_type": "code",
        "colab": {
          "base_uri": "https://localhost:8080/",
          "height": 143
        },
        "outputId": "a84bd912-de17-4888-8172-27847d5bca13"
      },
      "cell_type": "code",
      "source": [
        "fit(model, data, 3, opt, F.mse_loss)"
      ],
      "execution_count": 46,
      "outputs": [
        {
          "output_type": "display_data",
          "data": {
            "application/vnd.jupyter.widget-view+json": {
              "model_id": "75097afb143846beb1155d3535a8e106",
              "version_minor": 0,
              "version_major": 2
            },
            "text/plain": [
              "HBox(children=(IntProgress(value=0, description='Epoch', max=3), HTML(value='')))"
            ]
          },
          "metadata": {
            "tags": []
          }
        },
        {
          "output_type": "stream",
          "text": [
            "epoch      trn_loss   val_loss   \n",
            "    0      0.716424   1.147718  \n",
            "    1      0.698611   1.13465   \n",
            "    2      0.670888   1.130182  \n",
            "\n"
          ],
          "name": "stdout"
        },
        {
          "output_type": "execute_result",
          "data": {
            "text/plain": [
              "[array([1.13018])]"
            ]
          },
          "metadata": {
            "tags": []
          },
          "execution_count": 46
        }
      ]
    },
    {
      "metadata": {
        "id": "K4hHVoGBaoOI",
        "colab_type": "text"
      },
      "cell_type": "markdown",
      "source": [
        "### Bias"
      ]
    },
    {
      "metadata": {
        "id": "VWXz3cl3aoOJ",
        "colab_type": "code",
        "colab": {
          "base_uri": "https://localhost:8080/",
          "height": 35
        },
        "outputId": "1ca649cb-2643-4c2b-a265-d1da0ba389c6"
      },
      "cell_type": "code",
      "source": [
        "min_rating,max_rating = ratings.rating.min(),ratings.rating.max()\n",
        "min_rating,max_rating"
      ],
      "execution_count": 47,
      "outputs": [
        {
          "output_type": "execute_result",
          "data": {
            "text/plain": [
              "(0.5, 5.0)"
            ]
          },
          "metadata": {
            "tags": []
          },
          "execution_count": 47
        }
      ]
    },
    {
      "metadata": {
        "id": "3eyW9mo8aoOL",
        "colab_type": "code",
        "colab": {}
      },
      "cell_type": "code",
      "source": [
        "def get_emb(ni,nf):\n",
        "    e = nn.Embedding(ni, nf)\n",
        "    e.weight.data.uniform_(-0.01,0.01)\n",
        "    return e\n",
        "\n",
        "class EmbeddingDotBias(nn.Module):\n",
        "    def __init__(self, n_users, n_movies):\n",
        "        super().__init__()\n",
        "        (self.u, self.m, self.ub, self.mb) = [get_emb(*o) for o in [\n",
        "            (n_users, n_factors), (n_movies, n_factors), (n_users,1), (n_movies,1)\n",
        "        ]]\n",
        "        \n",
        "    def forward(self, cats, conts):\n",
        "        users,movies = cats[:,0],cats[:,1]\n",
        "        um = (self.u(users)* self.m(movies)).sum(1)\n",
        "        res = um + self.ub(users).squeeze() + self.mb(movies).squeeze()\n",
        "        res = F.sigmoid(res) * (max_rating-min_rating) + min_rating\n",
        "        return res"
      ],
      "execution_count": 0,
      "outputs": []
    },
    {
      "metadata": {
        "id": "xE4m-_z4aoOQ",
        "colab_type": "code",
        "colab": {}
      },
      "cell_type": "code",
      "source": [
        "wd=2e-4\n",
        "model = EmbeddingDotBias(cf.n_users, cf.n_items).cuda()\n",
        "opt = optim.SGD(model.parameters(), 1e-1, weight_decay=wd, momentum=0.9)"
      ],
      "execution_count": 0,
      "outputs": []
    },
    {
      "metadata": {
        "id": "5xHfcK7DaoOU",
        "colab_type": "code",
        "colab": {
          "base_uri": "https://localhost:8080/",
          "height": 143
        },
        "outputId": "079b746c-e8e0-4338-fcf0-179bbb5ee7f8"
      },
      "cell_type": "code",
      "source": [
        "fit(model, data, 3, opt, F.mse_loss)"
      ],
      "execution_count": 50,
      "outputs": [
        {
          "output_type": "display_data",
          "data": {
            "application/vnd.jupyter.widget-view+json": {
              "model_id": "f9d8daa95b4241b2a5d16bed0a6058b2",
              "version_minor": 0,
              "version_major": 2
            },
            "text/plain": [
              "HBox(children=(IntProgress(value=0, description='Epoch', max=3), HTML(value='')))"
            ]
          },
          "metadata": {
            "tags": []
          }
        },
        {
          "output_type": "stream",
          "text": [
            "epoch      trn_loss   val_loss   \n",
            "    0      0.849339   0.837104  \n",
            "    1      0.811242   0.814318  \n",
            "    2      0.769739   0.811844  \n",
            "\n"
          ],
          "name": "stdout"
        },
        {
          "output_type": "execute_result",
          "data": {
            "text/plain": [
              "[array([0.81184])]"
            ]
          },
          "metadata": {
            "tags": []
          },
          "execution_count": 50
        }
      ]
    },
    {
      "metadata": {
        "id": "ayPUNtnwaoOX",
        "colab_type": "code",
        "colab": {}
      },
      "cell_type": "code",
      "source": [
        "set_lrs(opt, 1e-2)"
      ],
      "execution_count": 0,
      "outputs": []
    },
    {
      "metadata": {
        "id": "wald34VJaoOa",
        "colab_type": "code",
        "colab": {
          "base_uri": "https://localhost:8080/",
          "height": 143
        },
        "outputId": "179ec447-08c3-49d0-eba8-767f856c91a7"
      },
      "cell_type": "code",
      "source": [
        "fit(model, data, 3, opt, F.mse_loss)"
      ],
      "execution_count": 52,
      "outputs": [
        {
          "output_type": "display_data",
          "data": {
            "application/vnd.jupyter.widget-view+json": {
              "model_id": "b59d396c48cc4ed5b8333f9f27e83b56",
              "version_minor": 0,
              "version_major": 2
            },
            "text/plain": [
              "HBox(children=(IntProgress(value=0, description='Epoch', max=3), HTML(value='')))"
            ]
          },
          "metadata": {
            "tags": []
          }
        },
        {
          "output_type": "stream",
          "text": [
            "epoch      trn_loss   val_loss   \n",
            "    0      0.73834    0.803762  \n",
            "    1      0.748575   0.801889  \n",
            "    2      0.751373   0.801111  \n",
            "\n"
          ],
          "name": "stdout"
        },
        {
          "output_type": "execute_result",
          "data": {
            "text/plain": [
              "[array([0.80111])]"
            ]
          },
          "metadata": {
            "tags": []
          },
          "execution_count": 52
        }
      ]
    },
    {
      "metadata": {
        "id": "P4sWJuGkaoOe",
        "colab_type": "text"
      },
      "cell_type": "markdown",
      "source": [
        "### Mini net"
      ]
    },
    {
      "metadata": {
        "id": "BMGg0RqzaoOf",
        "colab_type": "code",
        "colab": {}
      },
      "cell_type": "code",
      "source": [
        "class EmbeddingNet(nn.Module):\n",
        "    def __init__(self, n_users, n_movies, nh=10, p1=0.05, p2=0.5):\n",
        "        super().__init__()\n",
        "        (self.u, self.m) = [get_emb(*o) for o in [\n",
        "            (n_users, n_factors), (n_movies, n_factors)]]\n",
        "        self.lin1 = nn.Linear(n_factors*2, nh)\n",
        "        self.lin2 = nn.Linear(nh, 1)\n",
        "        self.drop1 = nn.Dropout(p1)\n",
        "        self.drop2 = nn.Dropout(p2)\n",
        "        \n",
        "    def forward(self, cats, conts):\n",
        "        users,movies = cats[:,0],cats[:,1]\n",
        "        x = self.drop1(torch.cat([self.u(users),self.m(movies)], dim=1))\n",
        "        x = self.drop2(F.relu(self.lin1(x)))\n",
        "        return F.sigmoid(self.lin2(x)) * (max_rating-min_rating+1) + min_rating-0.5"
      ],
      "execution_count": 0,
      "outputs": []
    },
    {
      "metadata": {
        "id": "LBPXIZQzaoOh",
        "colab_type": "code",
        "colab": {}
      },
      "cell_type": "code",
      "source": [
        "wd=1e-5\n",
        "model = EmbeddingNet(n_users, n_movies).cuda()\n",
        "opt = optim.Adam(model.parameters(), 1e-3, weight_decay=wd)"
      ],
      "execution_count": 0,
      "outputs": []
    },
    {
      "metadata": {
        "id": "EUMt7SIHaoOj",
        "colab_type": "code",
        "colab": {
          "base_uri": "https://localhost:8080/",
          "height": 143
        },
        "outputId": "262fd887-0553-4135-8d13-498238cc69f0"
      },
      "cell_type": "code",
      "source": [
        "fit(model, data, 3, opt, F.mse_loss)"
      ],
      "execution_count": 55,
      "outputs": [
        {
          "output_type": "display_data",
          "data": {
            "application/vnd.jupyter.widget-view+json": {
              "model_id": "3b612b266e224395b81f95d49dd57136",
              "version_minor": 0,
              "version_major": 2
            },
            "text/plain": [
              "HBox(children=(IntProgress(value=0, description='Epoch', max=3), HTML(value='')))"
            ]
          },
          "metadata": {
            "tags": []
          }
        },
        {
          "output_type": "stream",
          "text": [
            "epoch      trn_loss   val_loss   \n",
            "    0      0.921004   0.807385  \n",
            "    1      0.840737   0.790992  \n",
            "    2      0.791038   0.785069  \n",
            "\n"
          ],
          "name": "stdout"
        },
        {
          "output_type": "execute_result",
          "data": {
            "text/plain": [
              "[array([0.78507])]"
            ]
          },
          "metadata": {
            "tags": []
          },
          "execution_count": 55
        }
      ]
    },
    {
      "metadata": {
        "id": "gnBKWwhSaoOm",
        "colab_type": "code",
        "colab": {}
      },
      "cell_type": "code",
      "source": [
        "set_lrs(opt, 1e-3)"
      ],
      "execution_count": 0,
      "outputs": []
    },
    {
      "metadata": {
        "id": "VBj2sIaDaoOo",
        "colab_type": "code",
        "colab": {
          "base_uri": "https://localhost:8080/",
          "height": 143
        },
        "outputId": "2060fab1-668e-4830-9db8-f4796642adc7"
      },
      "cell_type": "code",
      "source": [
        "fit(model, data, 3, opt, F.mse_loss)"
      ],
      "execution_count": 57,
      "outputs": [
        {
          "output_type": "display_data",
          "data": {
            "application/vnd.jupyter.widget-view+json": {
              "model_id": "44594446a04747f19c4c84199278ad2a",
              "version_minor": 0,
              "version_major": 2
            },
            "text/plain": [
              "HBox(children=(IntProgress(value=0, description='Epoch', max=3), HTML(value='')))"
            ]
          },
          "metadata": {
            "tags": []
          }
        },
        {
          "output_type": "stream",
          "text": [
            "epoch      trn_loss   val_loss   \n",
            "    0      0.788819   0.791403  \n",
            "    1      0.801915   0.790946  \n",
            "    2      0.759726   0.79143   \n",
            "\n"
          ],
          "name": "stdout"
        },
        {
          "output_type": "execute_result",
          "data": {
            "text/plain": [
              "[array([0.79143])]"
            ]
          },
          "metadata": {
            "tags": []
          },
          "execution_count": 57
        }
      ]
    },
    {
      "metadata": {
        "id": "BUsLBXU-aoO7",
        "colab_type": "code",
        "colab": {}
      },
      "cell_type": "code",
      "source": [
        ""
      ],
      "execution_count": 0,
      "outputs": []
    }
  ]
}